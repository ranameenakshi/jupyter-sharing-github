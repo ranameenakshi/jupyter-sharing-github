{
 "cells": [
  {
   "cell_type": "code",
   "execution_count": 2,
   "metadata": {},
   "outputs": [],
   "source": [
    "import numpy as np\n",
    "from sklearn.model_selection import train_test_split"
   ]
  },
  {
   "cell_type": "code",
   "execution_count": 5,
   "metadata": {},
   "outputs": [
    {
     "data": {
      "text/plain": [
       "array([  1,   2,   3,   4,   5,   6,   7,   8,   9,  10,  11,  12,  13,\n",
       "        14,  15,  16,  17,  18,  19,  20,  21,  22,  23,  24,  25,  26,\n",
       "        27,  28,  29,  30,  31,  32,  33,  34,  35,  36,  37,  38,  39,\n",
       "        40,  41,  42,  43,  44,  45,  46,  47,  48,  49,  50,  51,  52,\n",
       "        53,  54,  55,  56,  57,  58,  59,  60,  61,  62,  63,  64,  65,\n",
       "        66,  67,  68,  69,  70,  71,  72,  73,  74,  75,  76,  77,  78,\n",
       "        79,  80,  81,  82,  83,  84,  85,  86,  87,  88,  89,  90,  91,\n",
       "        92,  93,  94,  95,  96,  97,  98,  99, 100])"
      ]
     },
     "execution_count": 5,
     "metadata": {},
     "output_type": "execute_result"
    }
   ],
   "source": [
    "a = np.arange(1,101)\n",
    "a"
   ]
  },
  {
   "cell_type": "code",
   "execution_count": 7,
   "metadata": {},
   "outputs": [],
   "source": [
    "a_train, a_test = train_test_split(a)"
   ]
  },
  {
   "cell_type": "code",
   "execution_count": 8,
   "metadata": {},
   "outputs": [
    {
     "data": {
      "text/plain": [
       "((75,), (25,))"
      ]
     },
     "execution_count": 8,
     "metadata": {},
     "output_type": "execute_result"
    }
   ],
   "source": [
    "a_train.shape, a_test.shape"
   ]
  },
  {
   "cell_type": "code",
   "execution_count": 9,
   "metadata": {},
   "outputs": [],
   "source": [
    "a_train, a_test = train_test_split(a, test_size = .2)"
   ]
  },
  {
   "cell_type": "code",
   "execution_count": 10,
   "metadata": {},
   "outputs": [
    {
     "data": {
      "text/plain": [
       "(array([ 47,  55,  22,  14,  64,  71,   2,  42,  45,  86, 100,  17,   7,\n",
       "         24,  77,   4,  87,  98,  67,  40,   6,  79,  26,   9,  61,  27,\n",
       "         44,  72,  97,  74,  21,  15,  94,  35,  36,  12,  23,  89,  78,\n",
       "         43,  88,  49,  53,  66,  99,  25,  92,  19,  31,  63,  60,  30,\n",
       "         56,   8,  85,  68,  39,   5,  11,  32,   1,  62,  65,  95,  84,\n",
       "         33,  91,  81,  28,  59,  57,  90,  41,  93,  48,  69,  80,  58,\n",
       "         70,  76]),\n",
       " array([13,  3, 75, 18, 54, 29, 73, 16, 20, 34, 83, 96, 37, 46, 52, 10, 51,\n",
       "        50, 38, 82]))"
      ]
     },
     "execution_count": 10,
     "metadata": {},
     "output_type": "execute_result"
    }
   ],
   "source": [
    "a_train,a_test"
   ]
  },
  {
   "cell_type": "code",
   "execution_count": 12,
   "metadata": {},
   "outputs": [],
   "source": [
    "a_train,a_test = train_test_split(a, test_size = .2, random_state = 2)"
   ]
  },
  {
   "cell_type": "code",
   "execution_count": 13,
   "metadata": {},
   "outputs": [
    {
     "data": {
      "text/plain": [
       "(array([36, 12, 85, 45, 74,  6, 26, 78, 75, 63, 66,  2, 19, 49, 37, 79,  7,\n",
       "        90, 92, 11, 13, 54, 88, 55, 96, 33, 20, 27, 61, 56, 10, 97, 18, 60,\n",
       "        58, 42, 65, 46, 98,  9, 72, 95, 91, 99, 87, 81, 51, 53, 67, 89, 71,\n",
       "        47, 69, 70, 82, 59, 34, 39, 52, 43,  5, 68, 40, 38, 21, 32, 64, 48,\n",
       "        86, 94, 50, 35,  8, 76, 83, 44, 23, 73, 16, 41]),\n",
       " array([ 84,  31,  57,  25,  17,  24,   3,  28,  29,  14, 100,  93,  77,\n",
       "         15,   1,  22,   4,  30,  62,  80]))"
      ]
     },
     "execution_count": 13,
     "metadata": {},
     "output_type": "execute_result"
    }
   ],
   "source": [
    "a_train, a_test"
   ]
  },
  {
   "cell_type": "code",
   "execution_count": 21,
   "metadata": {},
   "outputs": [
    {
     "data": {
      "text/plain": [
       "(array([36, 12, 85, 45, 74,  6, 26, 78, 75, 63, 66,  2, 19, 49, 37, 79,  7,\n",
       "        90, 92, 11, 13, 54, 88, 55, 96, 33, 20, 27, 61, 56, 10, 97, 18, 60,\n",
       "        58, 42, 65, 46, 98,  9, 72, 95, 91, 99, 87, 81, 51, 53, 67, 89, 71,\n",
       "        47, 69, 70, 82, 59, 34, 39, 52, 43,  5, 68, 40, 38, 21, 32, 64, 48,\n",
       "        86, 94, 50, 35,  8, 76, 83, 44, 23, 73, 16, 41]),\n",
       " array([ 84,  31,  57,  25,  17,  24,   3,  28,  29,  14, 100,  93,  77,\n",
       "         15,   1,  22,   4,  30,  62,  80]))"
      ]
     },
     "execution_count": 21,
     "metadata": {},
     "output_type": "execute_result"
    }
   ],
   "source": [
    "a_train,a_test = train_test_split(a, test_size = .2, random_state = 2)\n",
    "a_train, a_test"
   ]
  },
  {
   "cell_type": "code",
   "execution_count": 19,
   "metadata": {},
   "outputs": [
    {
     "data": {
      "text/plain": [
       "(array([ 1,  2,  3,  4,  5,  6,  7,  8,  9, 10, 11, 12, 13, 14, 15, 16, 17,\n",
       "        18, 19, 20, 21, 22, 23, 24, 25, 26, 27, 28, 29, 30, 31, 32, 33, 34,\n",
       "        35, 36, 37, 38, 39, 40, 41, 42, 43, 44, 45, 46, 47, 48, 49, 50, 51,\n",
       "        52, 53, 54, 55, 56, 57, 58, 59, 60, 61, 62, 63, 64, 65, 66, 67, 68,\n",
       "        69, 70, 71, 72, 73, 74, 75, 76, 77, 78, 79, 80]),\n",
       " array([ 81,  82,  83,  84,  85,  86,  87,  88,  89,  90,  91,  92,  93,\n",
       "         94,  95,  96,  97,  98,  99, 100]))"
      ]
     },
     "execution_count": 19,
     "metadata": {},
     "output_type": "execute_result"
    }
   ],
   "source": [
    "a_train,a_test = train_test_split(a, test_size = .2, shuffle = False,random_state = 2)\n",
    "a_train, a_test"
   ]
  },
  {
   "cell_type": "code",
   "execution_count": 20,
   "metadata": {},
   "outputs": [
    {
     "data": {
      "text/plain": [
       "(array([ 1,  2,  3,  4,  5,  6,  7,  8,  9, 10, 11, 12, 13, 14, 15, 16, 17,\n",
       "        18, 19, 20, 21, 22, 23, 24, 25, 26, 27, 28, 29, 30, 31, 32, 33, 34,\n",
       "        35, 36, 37, 38, 39, 40, 41, 42, 43, 44, 45, 46, 47, 48, 49, 50, 51,\n",
       "        52, 53, 54, 55, 56, 57, 58, 59, 60, 61, 62, 63, 64, 65, 66, 67, 68,\n",
       "        69, 70, 71, 72, 73, 74, 75, 76, 77, 78, 79, 80]),\n",
       " array([ 81,  82,  83,  84,  85,  86,  87,  88,  89,  90,  91,  92,  93,\n",
       "         94,  95,  96,  97,  98,  99, 100]))"
      ]
     },
     "execution_count": 20,
     "metadata": {},
     "output_type": "execute_result"
    }
   ],
   "source": [
    "a_train,a_test = train_test_split(a, test_size = .2, shuffle = False)\n",
    "a_train, a_test"
   ]
  },
  {
   "cell_type": "code",
   "execution_count": null,
   "metadata": {},
   "outputs": [],
   "source": []
  }
 ],
 "metadata": {
  "kernelspec": {
   "display_name": "Python 3",
   "language": "python",
   "name": "python3"
  },
  "language_info": {
   "codemirror_mode": {
    "name": "ipython",
    "version": 3
   },
   "file_extension": ".py",
   "mimetype": "text/x-python",
   "name": "python",
   "nbconvert_exporter": "python",
   "pygments_lexer": "ipython3",
   "version": "3.7.4"
  }
 },
 "nbformat": 4,
 "nbformat_minor": 2
}
